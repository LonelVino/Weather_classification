{
 "cells": [
  {
   "cell_type": "markdown",
   "metadata": {},
   "source": [
    "# 1.EDA pipeline of Night and Day\n",
    "\n",
    "The goal here is to create a EDA pipeline to do day/night classification."
   ]
  },
  {
   "cell_type": "markdown",
   "metadata": {},
   "source": [
    "## 1.1 Loading the dataset\n",
    "---\n",
    "\n",
    "Load the dataset from the weather type and data type (train \\ test \\ validation)"
   ]
  },
  {
   "cell_type": "code",
   "execution_count": 1,
   "metadata": {
    "execution": {
     "iopub.execute_input": "2021-11-19T11:29:53.734182Z",
     "iopub.status.busy": "2021-11-19T11:29:53.733225Z",
     "iopub.status.idle": "2021-11-19T11:29:54.743886Z",
     "shell.execute_reply": "2021-11-19T11:29:54.742882Z",
     "shell.execute_reply.started": "2021-11-19T11:29:53.734079Z"
    }
   },
   "outputs": [],
   "source": [
    "import os\n",
    "import numpy as np\n",
    "import pandas as pd\n",
    "\n",
    "from PIL import Image\n",
    "import seaborn as sns\n",
    "import matplotlib.pyplot as plt\n",
    "import cv2\n",
    "from tqdm import tqdm\n",
    "\n",
    "%matplotlib inline"
   ]
  },
  {
   "cell_type": "code",
   "execution_count": 2,
   "metadata": {
    "execution": {
     "iopub.execute_input": "2021-11-19T11:29:54.746351Z",
     "iopub.status.busy": "2021-11-19T11:29:54.745404Z",
     "iopub.status.idle": "2021-11-19T11:29:54.756801Z",
     "shell.execute_reply": "2021-11-19T11:29:54.755368Z",
     "shell.execute_reply.started": "2021-11-19T11:29:54.746304Z"
    }
   },
   "outputs": [],
   "source": [
    "def combine_into_df(data, path):\n",
    "    ''' Combine the path and data into a dataframe\n",
    "    \n",
    "    Args:\n",
    "        data (PIL.PngImagePlugin.PngImageFile): the pixel data of images\n",
    "        path (string): the store path of each image\n",
    "    \n",
    "    Returns:\n",
    "        pd.DataFrame: a DataFrame composed of image data and its path\n",
    "    '''\n",
    "    df = pd.DataFrame({'img': pd.Series(data), 'path': pd.Series(path)})\n",
    "    return df\n",
    "\n",
    "\n",
    "def load_images(weather_type, data_type):\n",
    "    \"\"\"\n",
    "    Load images from the weather_type/data_type folder\n",
    "    :param weather_type: fog or night or rain or snow\n",
    "    :type weather_type: String\n",
    "    :param data_type: train or val or test or train_ref or val_ref or test_ref\n",
    "    :type data_type: String\n",
    "    :return: dataframe, with columns = ['img', 'path']\n",
    "    :rtype: pd.DataFrame\n",
    "    \"\"\"\n",
    "    data = []\n",
    "    data_paths = []\n",
    "    counter = 0\n",
    "    path = '../input/acdc-dataset/dataset ACDC/rgb_anon/' + weather_type + '/' + data_type + '/'\n",
    "\n",
    "    # For each Gopro directory, for each image, store the image and its path in train and train_paths respectively\n",
    "    for directory_name in os.listdir(path):\n",
    "        gopro_path = path + directory_name\n",
    "        for image_name in os.listdir(gopro_path):\n",
    "            image_path = gopro_path + \"/\" + image_name\n",
    "            image = Image.open(image_path)\n",
    "            data.append(image)\n",
    "            data_paths.append(image_path)\n",
    "\n",
    "            # Counter to see progression\n",
    "            counter += 1\n",
    "            if counter%100 == 0:\n",
    "                print(str(counter) + \" \" + data_type + \" images loaded\")\n",
    "                \n",
    "    df = combine_into_df(data, data_paths)\n",
    "    \n",
    "    return df"
   ]
  },
  {
   "cell_type": "markdown",
   "metadata": {},
   "source": [
    "Load the dataset of night, respectively set as varaibles: `train_day`, `train_night`, `valid_day`, `valid_night` "
   ]
  },
  {
   "cell_type": "code",
   "execution_count": 3,
   "metadata": {
    "execution": {
     "iopub.execute_input": "2021-11-19T11:29:54.759608Z",
     "iopub.status.busy": "2021-11-19T11:29:54.758929Z",
     "iopub.status.idle": "2021-11-19T11:30:24.372572Z",
     "shell.execute_reply": "2021-11-19T11:30:24.371653Z",
     "shell.execute_reply.started": "2021-11-19T11:29:54.759543Z"
    }
   },
   "outputs": [],
   "source": [
    "train_day_df = load_images('night', 'train_ref')\n",
    "train_night_df = load_images('night', 'train')\n",
    "val_day_df = load_images('night', 'val_ref')\n",
    "val_night_df = load_images('night', 'val')\n",
    "test_day_df = load_images('night', 'test_ref')\n",
    "test_night_df = load_images('night', 'test')\n",
    "len_train, len_val, len_test = len(train_day_df) + len(train_night_df), len(val_day_df) + len(val_night_df), len(test_day_df) + len(test_night_df) "
   ]
  },
  {
   "cell_type": "markdown",
   "metadata": {},
   "source": [
    "## 1.2 EDA\n",
    "---\n",
    "Let's see some sample day and night images"
   ]
  },
  {
   "cell_type": "code",
   "execution_count": 4,
   "metadata": {
    "execution": {
     "iopub.execute_input": "2021-11-19T11:30:24.374500Z",
     "iopub.status.busy": "2021-11-19T11:30:24.374285Z",
     "iopub.status.idle": "2021-11-19T11:30:24.648858Z",
     "shell.execute_reply": "2021-11-19T11:30:24.647938Z",
     "shell.execute_reply.started": "2021-11-19T11:30:24.374476Z"
    }
   },
   "outputs": [],
   "source": [
    "img_day = cv2.imread(train_day_df.path[0])\n",
    "img_night = cv2.imread(train_night_df.path[0])\n",
    "\n",
    "# Resizing image to height and width b 500\n",
    "img_day = cv2.resize(img_day, (500,500))\n",
    "img_night = cv2.resize(img_night, (500,500))"
   ]
  },
  {
   "cell_type": "code",
   "execution_count": 5,
   "metadata": {
    "execution": {
     "iopub.execute_input": "2021-11-19T11:30:24.650964Z",
     "iopub.status.busy": "2021-11-19T11:30:24.649939Z",
     "iopub.status.idle": "2021-11-19T11:30:24.660641Z",
     "shell.execute_reply": "2021-11-19T11:30:24.659799Z",
     "shell.execute_reply.started": "2021-11-19T11:30:24.650920Z"
    }
   },
   "outputs": [],
   "source": [
    "# Converting from BGR format to RGB format for visualization\n",
    "day_rgb = cv2.cvtColor(img_day, cv2.COLOR_BGR2RGB)\n",
    "night_rgb = cv2.cvtColor(img_night, cv2.COLOR_BGR2RGB)"
   ]
  },
  {
   "cell_type": "code",
   "execution_count": 6,
   "metadata": {
    "execution": {
     "iopub.execute_input": "2021-11-19T11:30:24.662264Z",
     "iopub.status.busy": "2021-11-19T11:30:24.661861Z",
     "iopub.status.idle": "2021-11-19T11:30:25.198748Z",
     "shell.execute_reply": "2021-11-19T11:30:25.197745Z",
     "shell.execute_reply.started": "2021-11-19T11:30:24.662200Z"
    }
   },
   "outputs": [],
   "source": [
    "# Visualizing images using matplotlib\n",
    "fig, ax = plt.subplots(1,2,figsize=(10,15))\n",
    "ax[0].imshow(day_rgb)\n",
    "ax[0].set_title('Day')\n",
    "ax[1].imshow(night_rgb)\n",
    "ax[1].set_title('Night')"
   ]
  },
  {
   "cell_type": "markdown",
   "metadata": {},
   "source": [
    "Images taken during day are generally brighter than images taken during night. We can use this fact to build a simple baseline model.\n",
    "\n",
    "For this, we need to get the average brightness in an image. RGB image does not help much in this case.\n",
    "\n",
    "We can convert the image from RGB colorspace to **Hue Saturation Value (HSV) colorspace**.\n",
    "The Value in HSV indicates brightness at different positions. \n",
    "\n",
    "Therefore, utilize image from **HSV** colorspace, and split the 3 channels and visualize them, then build a basic classifier."
   ]
  },
  {
   "cell_type": "code",
   "execution_count": 7,
   "metadata": {
    "execution": {
     "iopub.execute_input": "2021-11-19T11:30:25.200445Z",
     "iopub.status.busy": "2021-11-19T11:30:25.200181Z",
     "iopub.status.idle": "2021-11-19T11:30:25.209435Z",
     "shell.execute_reply": "2021-11-19T11:30:25.208680Z",
     "shell.execute_reply.started": "2021-11-19T11:30:25.200415Z"
    }
   },
   "outputs": [],
   "source": [
    "# converting image to HSV colorspace\n",
    "day_hsv = cv2.cvtColor(img_day, cv2.COLOR_BGR2HSV)\n",
    "night_hsv = cv2.cvtColor(img_night, cv2.COLOR_BGR2HSV)\n",
    "\n",
    "# splitting channels of day and night hsv images\n",
    "dh, ds, dv = cv2.split(day_hsv)\n",
    "nh, ns, nv = cv2.split(night_hsv)"
   ]
  },
  {
   "cell_type": "code",
   "execution_count": 10,
   "metadata": {
    "execution": {
     "iopub.execute_input": "2021-11-19T11:30:25.760248Z",
     "iopub.status.busy": "2021-11-19T11:30:25.759975Z",
     "iopub.status.idle": "2021-11-19T11:30:27.011770Z",
     "shell.execute_reply": "2021-11-19T11:30:27.010810Z",
     "shell.execute_reply.started": "2021-11-19T11:30:25.760224Z"
    }
   },
   "outputs": [],
   "source": [
    "fig, ax = plt.subplots(2,3,figsize=(15,10))\n",
    "ax[0][0].imshow(dh)\n",
    "ax[0][0].set_title('Hue')\n",
    "ax[0][1].imshow(ds)\n",
    "ax[0][1].set_title('Saturation')\n",
    "ax[0][2].imshow(dv)\n",
    "ax[0][2].set_title('Value')\n",
    "\n",
    "ax[1][0].imshow(nh)\n",
    "ax[1][0].set_title('Hue')\n",
    "ax[1][1].imshow(ns)\n",
    "ax[1][1].set_title('Saturation')\n",
    "ax[1][2].imshow(nv)\n",
    "ax[1][2].set_title('Value')"
   ]
  },
  {
   "cell_type": "markdown",
   "metadata": {},
   "source": [
    "It seems like that the **Value** channel has higher pixel values where image is bright."
   ]
  },
  {
   "cell_type": "markdown",
   "metadata": {},
   "source": [
    "# 2. Baseline model (Average brightness)\n",
    "\n",
    "Now find average brightness of day and night images, and we can use this as threshold to classify images."
   ]
  },
  {
   "cell_type": "code",
   "execution_count": 11,
   "metadata": {
    "execution": {
     "iopub.execute_input": "2021-11-19T11:30:27.013711Z",
     "iopub.status.busy": "2021-11-19T11:30:27.013399Z",
     "iopub.status.idle": "2021-11-19T11:30:27.020764Z",
     "shell.execute_reply": "2021-11-19T11:30:27.020034Z",
     "shell.execute_reply.started": "2021-11-19T11:30:27.013681Z"
    }
   },
   "outputs": [],
   "source": [
    "def add_avg_brightness(df):\n",
    "    ''' Return average brightness of each image in a dataset\n",
    "    \n",
    "    Args:\n",
    "        path (string): The path of the dataset\n",
    "        \n",
    "    Returns:\n",
    "        list: the average brightness of each image\n",
    "    '''\n",
    "    avg_brightnesses = np.empty((len(df), 1))\n",
    "    for index in tqdm(range(len(df))):\n",
    "        img = cv2.imread(df.iloc[index].path) # reading img \n",
    "        img = cv2.resize(img, (500, 500)) # resizing image\n",
    "        img = cv2.cvtColor(img, cv2.COLOR_BGR2HSV) # converting to hsv\n",
    "        avg_bright = np.mean(img[:, :, 2]) # calculating average value per pixel of Value channel from HSV image\n",
    "        avg_brightnesses[index] = avg_bright # appending to array, numpy operation is faster than list operation\n",
    "    df['avg_b'] = avg_brightnesses"
   ]
  },
  {
   "cell_type": "markdown",
   "metadata": {},
   "source": [
    "## 2.1 Calculate accuracy and get the maximum\n",
    "---\n",
    "A simple function that takes in threshold as input, classifies images in train/validation/test set and returns the accuracy."
   ]
  },
  {
   "cell_type": "code",
   "execution_count": 12,
   "metadata": {
    "execution": {
     "iopub.execute_input": "2021-11-19T11:30:27.022284Z",
     "iopub.status.busy": "2021-11-19T11:30:27.022057Z",
     "iopub.status.idle": "2021-11-19T11:30:27.038065Z",
     "shell.execute_reply": "2021-11-19T11:30:27.037121Z",
     "shell.execute_reply.started": "2021-11-19T11:30:27.022254Z"
    }
   },
   "outputs": [],
   "source": [
    "def get_accuracy(avg_b_day, avg_b_night, threshold=90.):\n",
    "    ''' Calculate the accuracy of brightness of day and night\n",
    "    \n",
    "    Args:\n",
    "        avg_b_day (list of float64): the average brightness of day (train set /val set /test set)\n",
    "        avg_b_day (list of float64): the average brightness of night (train set /val set /test set)\n",
    "        threshold (float64): the threshold brightness to classify day/night   \n",
    "        \n",
    "    Returns:\n",
    "        float64: the accuracy of classification of day/night\n",
    "    '''\n",
    "    corrects = 0 # tracks running correct values\n",
    "    total = len(avg_b_day) + len(avg_b_night) # total number of images in set\n",
    "    \n",
    "    corrects = sum(np.array(avg_b_day) > threshold) + sum(np.array(avg_b_night) < threshold)\n",
    "    accuracy = corrects/total # calculating percentage of correctly classified images\n",
    "    return accuracy"
   ]
  },
  {
   "cell_type": "code",
   "execution_count": 13,
   "metadata": {
    "execution": {
     "iopub.execute_input": "2021-11-19T11:30:27.040246Z",
     "iopub.status.busy": "2021-11-19T11:30:27.039759Z",
     "iopub.status.idle": "2021-11-19T11:30:27.052006Z",
     "shell.execute_reply": "2021-11-19T11:30:27.051134Z",
     "shell.execute_reply.started": "2021-11-19T11:30:27.040204Z"
    }
   },
   "outputs": [],
   "source": [
    "def find_max_accur(avg_b_day, avg_b_night, thresholds):\n",
    "    ''' Traverse the thresolds to find the maximal accuracy and corresponding index(threshold), according to the avearge brightness\n",
    "    \n",
    "    Args:\n",
    "        avg_b_day (list of float64): the average brightness of day (train set /val set /test set)\n",
    "        avg_b_day (list of float64): the average brightness of night (train set /val set /test set)\n",
    "        thresholds (list of float64): the brightness thresholds to classify day/night   \n",
    "        \n",
    "    Returns:\n",
    "        pd.DataFrame: the table of (threshold, accuracy)\n",
    "        float64: The maximal validation accuracy and corresponding threshold\n",
    "    '''\n",
    "    accuracy = []\n",
    "    for thresh in thresholds:\n",
    "        accuracy.append(get_accuracy(avg_b_day, avg_b_night, threshold = thresh))\n",
    "    accuracy_df = pd.DataFrame({\n",
    "        'accuracy': pd.Series(accuracy, index=thresholds)\n",
    "    })  # combine threshold and accuracy into a dataframe\n",
    "    \n",
    "    # Find the maximum value and corresponding index(threshold) of accuracy\n",
    "    max_accuracy, max_threshold = accuracy_df.accuracy.max(), accuracy_df.accuracy.idxmax()\n",
    "    \n",
    "    # Print out the max accuracy and best threshold\n",
    "    ratio_over_day = np.sum(np.array(avg_b_day) > max_threshold) / len(avg_b_day)\n",
    "    ratio_under_night = 1 - np.sum(np.array(avg_b_night) > max_threshold) / len(avg_b_night)\n",
    "    print(\"The ratio over {:.2f} in day_brightness is: {:.1f}%; \\nThe ratio under {:.2f} in night_brightness is: {:.1f}%\"\\\n",
    "          .format(max_threshold, ratio_over_day*100, max_threshold, ratio_under_night*100))\n",
    "    \n",
    "    # Visualize the distribution with the best threshold\n",
    "    fig, ax = plt.subplots(1,2,figsize=(10,5))\n",
    "    ax[0].hist(avg_b_day)\n",
    "    ax[0].set_title('Day')\n",
    "    ax[0].axvline(max_threshold, color='red')\n",
    "    ax[1].hist(avg_b_night)\n",
    "    ax[1].set_title('Night')\n",
    "    ax[1].axvline(max_threshold, color='red')\n",
    "    \n",
    "    return accuracy_df, max_accuracy, max_threshold"
   ]
  },
  {
   "cell_type": "markdown",
   "metadata": {},
   "source": [
    "### 2.1.1 The maximal accuracy and best threshold of the **Train set**\n",
    "First get the average brightness of each image in the train set, and calculate the maximal accracy and corresponding threshold. "
   ]
  },
  {
   "cell_type": "code",
   "execution_count": 14,
   "metadata": {
    "execution": {
     "iopub.execute_input": "2021-11-19T11:30:27.053724Z",
     "iopub.status.busy": "2021-11-19T11:30:27.053243Z",
     "iopub.status.idle": "2021-11-19T11:31:23.560461Z",
     "shell.execute_reply": "2021-11-19T11:31:23.559679Z",
     "shell.execute_reply.started": "2021-11-19T11:30:27.053682Z"
    }
   },
   "outputs": [],
   "source": [
    "# lists to store avg. brightness from Value channel of each image\n",
    "add_avg_brightness(train_day_df)\n",
    "add_avg_brightness(train_night_df)"
   ]
  },
  {
   "cell_type": "code",
   "execution_count": 15,
   "metadata": {
    "execution": {
     "iopub.execute_input": "2021-11-19T11:31:23.561915Z",
     "iopub.status.busy": "2021-11-19T11:31:23.561708Z",
     "iopub.status.idle": "2021-11-19T11:31:24.537504Z",
     "shell.execute_reply": "2021-11-19T11:31:24.536616Z",
     "shell.execute_reply.started": "2021-11-19T11:31:23.561891Z"
    }
   },
   "outputs": [],
   "source": [
    "thresholds_70_90 = np.arange(70, 90, 0.1)\n",
    "accuracy_train_df, max_train_accuracy, max_train_threshold \\\n",
    "    = find_max_accur(train_day_df['avg_b'], train_night_df['avg_b'], thresholds_70_90)\n",
    "print('The maximal validation accuracy is: {:.1f}%, where threshold is {:.1f}'.format(max_train_accuracy*100, max_train_threshold))\n",
    "    \n",
    "plt.figure(figsize=(8,4), tight_layout=True)\n",
    "colors = sns.color_palette('pastel')\n",
    "accuracy_train_df.accuracy.plot(x=accuracy_train_df.index)\n",
    "plt.vlines(max_train_threshold, ymin=accuracy_train_df.accuracy.min(), ymax= accuracy_train_df.accuracy.max(), color='red')\n",
    "plt.xlabel('Threshold')\n",
    "plt.ylabel('Validate Score')\n",
    "plt.title('Score according to Threshold')\n",
    "plt.show()"
   ]
  },
  {
   "cell_type": "markdown",
   "metadata": {},
   "source": [
    "### 2.1.2 The maximal accuracy and best threshold of the **Validation set**\n",
    "\n",
    "Calculate the average brightness of day and night with the Value Channel of each image, and then validate"
   ]
  },
  {
   "cell_type": "code",
   "execution_count": 16,
   "metadata": {
    "execution": {
     "iopub.execute_input": "2021-11-19T11:31:24.538975Z",
     "iopub.status.busy": "2021-11-19T11:31:24.538770Z",
     "iopub.status.idle": "2021-11-19T11:31:39.101828Z",
     "shell.execute_reply": "2021-11-19T11:31:39.100917Z",
     "shell.execute_reply.started": "2021-11-19T11:31:24.538952Z"
    }
   },
   "outputs": [],
   "source": [
    "add_avg_brightness(val_day_df)\n",
    "add_avg_brightness(val_night_df)"
   ]
  },
  {
   "cell_type": "markdown",
   "metadata": {},
   "source": [
    "Find the maximal accuracy and corresponding threshold"
   ]
  },
  {
   "cell_type": "code",
   "execution_count": 17,
   "metadata": {
    "execution": {
     "iopub.execute_input": "2021-11-19T11:31:39.104778Z",
     "iopub.status.busy": "2021-11-19T11:31:39.103140Z",
     "iopub.status.idle": "2021-11-19T11:31:39.811855Z",
     "shell.execute_reply": "2021-11-19T11:31:39.810702Z",
     "shell.execute_reply.started": "2021-11-19T11:31:39.104721Z"
    }
   },
   "outputs": [],
   "source": [
    "thresholds_70_90 = np.arange(70, 90, 0.1)\n",
    "accuracy_val_df, max_val_accuracy, max_val_threshold \\\n",
    "    = find_max_accur(val_day_df['avg_b'], val_night_df['avg_b'], thresholds_70_90)\n",
    "print('The maximal validation accuracy is: {:.1f}%, where threshold is {:.1f}'.format(max_val_accuracy*100, max_val_threshold))\n",
    "    \n",
    "plt.figure(figsize=(8,4), tight_layout=True)\n",
    "colors = sns.color_palette('pastel')\n",
    "accuracy_val_df.accuracy.plot(x=accuracy_val_df.index)\n",
    "plt.vlines(max_val_threshold, ymin=accuracy_val_df.accuracy.min(), ymax= accuracy_val_df.accuracy.max(), color='red')\n",
    "plt.xlabel('Threshold')\n",
    "plt.ylabel('Validate Score')\n",
    "plt.title('Score according to Threshold')\n",
    "plt.show()"
   ]
  },
  {
   "cell_type": "markdown",
   "metadata": {
    "execution": {
     "iopub.execute_input": "2021-11-17T19:50:18.496463Z",
     "iopub.status.busy": "2021-11-17T19:50:18.496138Z",
     "iopub.status.idle": "2021-11-17T19:50:18.503672Z",
     "shell.execute_reply": "2021-11-17T19:50:18.502363Z",
     "shell.execute_reply.started": "2021-11-17T19:50:18.496431Z"
    }
   },
   "source": [
    "We received an accuracy of **92.5%** with the train set and an accuracy of **97.6%** with the validation set by using only one feature extraction, i.e. the average brightness of the image. (V Channel)\n",
    "\n",
    "We can't use brightness alone, because there's large shadow in day image and artifical light in night image, which influence the brightness greatly.\n",
    "\n",
    "We could work more on this to figure out better features extraction. \n",
    "\n",
    "\n",
    "---\n",
    "---\n",
    "---"
   ]
  },
  {
   "cell_type": "markdown",
   "metadata": {},
   "source": [
    "## 2.2  Look into the Misclassified Images\n",
    "---\n",
    "\n",
    "After find the best threshold, we create **2 columns to store the predicted label and true label of each image**. <br/>\n",
    "`pred_label = {'Day', 'Night'}`   and  `true_label = {'Day', 'Night'}`.<br/>\n",
    "And then return all the misclassified images with their predicted label, and their true labels.\n",
    "\n",
    "### 2.2.1 Add labels to justify if images are misclassified"
   ]
  },
  {
   "cell_type": "code",
   "execution_count": 18,
   "metadata": {
    "execution": {
     "iopub.execute_input": "2021-11-19T11:31:39.813645Z",
     "iopub.status.busy": "2021-11-19T11:31:39.813357Z",
     "iopub.status.idle": "2021-11-19T11:31:39.826314Z",
     "shell.execute_reply": "2021-11-19T11:31:39.825523Z",
     "shell.execute_reply.started": "2021-11-19T11:31:39.813604Z"
    }
   },
   "outputs": [],
   "source": [
    "train_day_df.loc[train_day_df['avg_b'] > max_train_threshold, 'pred_label'] = 'Day' \n",
    "train_day_df.loc[train_day_df['avg_b'] <= max_train_threshold, 'pred_label'] = 'Night' \n",
    "train_night_df.loc[train_night_df['avg_b'] > max_train_threshold, 'pred_label'] = 'Day' \n",
    "train_night_df.loc[train_night_df['avg_b'] <= max_train_threshold, 'pred_label'] = 'Night' \n",
    "\n",
    "train_day_df['true_label'] = 'Day'\n",
    "train_night_df['true_label'] = 'Night'"
   ]
  },
  {
   "cell_type": "code",
   "execution_count": 19,
   "metadata": {
    "execution": {
     "iopub.execute_input": "2021-11-19T11:31:39.827874Z",
     "iopub.status.busy": "2021-11-19T11:31:39.827324Z",
     "iopub.status.idle": "2021-11-19T11:31:39.850949Z",
     "shell.execute_reply": "2021-11-19T11:31:39.849891Z",
     "shell.execute_reply.started": "2021-11-19T11:31:39.827843Z"
    }
   },
   "outputs": [],
   "source": [
    "val_day_df.loc[val_day_df['avg_b'] > max_val_threshold, 'pred_label'] = 'Day' \n",
    "val_day_df.loc[val_day_df['avg_b'] <= max_val_threshold, 'pred_label'] = 'Night' \n",
    "val_night_df.loc[val_night_df['avg_b'] > max_val_threshold, 'pred_label'] = 'Day' \n",
    "val_night_df.loc[val_night_df['avg_b'] <= max_val_threshold, 'pred_label'] = 'Night' \n",
    "\n",
    "val_day_df['true_label'] = 'Day'\n",
    "val_night_df['true_label'] = 'Night'"
   ]
  },
  {
   "cell_type": "markdown",
   "metadata": {},
   "source": [
    "If the `pred_label != true_label`, images are misclassified."
   ]
  },
  {
   "cell_type": "code",
   "execution_count": 104,
   "metadata": {
    "execution": {
     "iopub.execute_input": "2021-11-19T12:40:18.799611Z",
     "iopub.status.busy": "2021-11-19T12:40:18.799306Z",
     "iopub.status.idle": "2021-11-19T12:40:18.804640Z",
     "shell.execute_reply": "2021-11-19T12:40:18.803675Z",
     "shell.execute_reply.started": "2021-11-19T12:40:18.799569Z"
    }
   },
   "outputs": [],
   "source": [
    "def get_misclassified_images(df):\n",
    "    ''' Get the list of misclassified images\n",
    "    \n",
    "    Args:\n",
    "        df(pd.Dataframe): the original dataframe of images\n",
    "       \n",
    "    Returns:\n",
    "        pd.Series of PIL.PngImagePlugin.PngImageFile: the misclassified images\n",
    "    '''\n",
    "    misclassified_images = df[df['pred_label'] != df['true_label']] \n",
    "    return misclassified_images"
   ]
  },
  {
   "cell_type": "markdown",
   "metadata": {},
   "source": [
    "### 2.2.2 Define the Visualization functions of misclassified images\n",
    "\n",
    "- `visualize_mis_images`: Visualize the real images.\n",
    "- `scatter_plot_mis_images`: show the misclassified images in a scatter plot."
   ]
  },
  {
   "cell_type": "code",
   "execution_count": 173,
   "metadata": {
    "execution": {
     "iopub.execute_input": "2021-11-19T15:02:08.148519Z",
     "iopub.status.busy": "2021-11-19T15:02:08.148056Z",
     "iopub.status.idle": "2021-11-19T15:02:08.159069Z",
     "shell.execute_reply": "2021-11-19T15:02:08.158207Z",
     "shell.execute_reply.started": "2021-11-19T15:02:08.148488Z"
    }
   },
   "outputs": [],
   "source": [
    "import math\n",
    "    \n",
    "def visualize_mis_images(mis_images):\n",
    "    ''' Visualize misclassified example(s), show the true label / brigtness / predicted label\n",
    "    \n",
    "    Args:\n",
    "        mis_images (pd.DataFrame): the misclassified images\n",
    "    '''\n",
    "    len_images = len(mis_images) if len(mis_images)<=25 else 25\n",
    "    num = math.ceil(math.sqrt(len_images))\n",
    "    idxs = random.sample(range(0, len(mis_images)), len_images)\n",
    "    \n",
    "    fig = plt.figure(figsize=(num**2,num**2)) if num > 3 else  plt.figure(figsize=((num+1)**2,(num+1)**2))\n",
    "    plt.title(\"Misclassified images (True Label - Brightness - Predicted Label)\",  fontsize=24)\n",
    "    for count, index in enumerate(idxs):\n",
    "        ax = fig.add_subplot(num, num, count + 1, xticks=[], yticks=[])\n",
    "        image = mis_images.iloc[index].img\n",
    "        label_true = mis_images.iloc[index].true_label\n",
    "        label_pred = mis_images.iloc[index].pred_label\n",
    "        bright = mis_images.iloc[index]['avg_b'] if 'avg_b' in mis_images else  mis_images.iloc[index]['avg_V'] \n",
    "        ax.imshow(image)\n",
    "        ax.set_title(\"{} {:0.0f} {}\".format(label_true, bright, label_pred))\n",
    "\n",
    "        if count==len_images-1:\n",
    "            break\n",
    "    \n",
    "def scatter_plot_mis_images(MISCLASSIFIED_avg_hsv, x_name, y_name, label_name, mode, loc_legend='lower left'):\n",
    "    ''' Visualize misclassified example(s) with scatter plot, and print out the accuracy of classification\n",
    "    \n",
    "    Args:\n",
    "        MISCLASSIFIED_avg_hsv (pd.DataFrame): the misclassified images with HSV and RGB value\n",
    "        x_name (String): the name of X_axis, also the field of dataframe, such as `avg_H`, `avg_R`\n",
    "        y_name (String): the name of Y_axis, also the field of dataframe, such as `avg_H`, `avg_R`\n",
    "        label_name (String): the label of images, such as `true_label`, `pred_label`\n",
    "        mode (String): 3 choices -- train / validation / test mode\n",
    "        loc_legend (String): the location of the legend of the plot\n",
    "    ''' \n",
    "    ax = sns.scatterplot(x=x_name, y=y_name, hue=label_name, data=MISCLASSIFIED_avg_hsv, legend='full')\n",
    "    ax.legend(loc=loc_legend)\n",
    "    ax.set_title('[{:s} -- {:s}] of MISCLASSIFED Images ({:s})'.format(x_name, y_name, mode), fontsize=20)\n",
    "    length = len_train if mode=='train' else len_val if mode=='val' else len_test\n",
    "    accuracy = (1-len(MISCLASSIFIED_avg_hsv)/ length)*100\n",
    "    print('The accuracy is: {:.2f} %'.format(accuracy))\n",
    "    plt.show()"
   ]
  },
  {
   "cell_type": "code",
   "execution_count": 166,
   "metadata": {
    "execution": {
     "iopub.execute_input": "2021-11-19T14:59:43.060336Z",
     "iopub.status.busy": "2021-11-19T14:59:43.060066Z",
     "iopub.status.idle": "2021-11-19T14:59:43.068413Z",
     "shell.execute_reply": "2021-11-19T14:59:43.067348Z",
     "shell.execute_reply.started": "2021-11-19T14:59:43.060307Z"
    }
   },
   "outputs": [],
   "source": [
    "mis_train_day_df = get_misclassified_images(train_day_df)\n",
    "mis_train_night_df = get_misclassified_images(train_night_df)\n",
    "MISCLASSIFIED_train = pd.concat([mis_train_day_df, mis_train_night_df])"
   ]
  },
  {
   "cell_type": "code",
   "execution_count": 22,
   "metadata": {
    "execution": {
     "iopub.execute_input": "2021-11-19T11:31:39.893972Z",
     "iopub.status.busy": "2021-11-19T11:31:39.893708Z",
     "iopub.status.idle": "2021-11-19T11:31:39.905615Z",
     "shell.execute_reply": "2021-11-19T11:31:39.904573Z",
     "shell.execute_reply.started": "2021-11-19T11:31:39.893944Z"
    }
   },
   "outputs": [],
   "source": [
    "mis_val_day_df = get_misclassified_images(val_day_df)\n",
    "mis_val_night_df = get_misclassified_images(val_night_df)\n",
    "MISCLASSIFIED_val = pd.concat([mis_val_day_df, mis_val_night_df])"
   ]
  },
  {
   "cell_type": "markdown",
   "metadata": {},
   "source": [
    "### 2.2.3 Visualize the misclassified images\n",
    "Visualize some of the images we classified wrong (for example in the `mis_val_day_df` and `mis_val_night_df`) and note any qualities that make them difficult to classify. This will help us identify any weaknesses in our classification algorithm."
   ]
  },
  {
   "cell_type": "code",
   "execution_count": 174,
   "metadata": {
    "execution": {
     "iopub.execute_input": "2021-11-19T15:02:11.382231Z",
     "iopub.status.busy": "2021-11-19T15:02:11.381946Z",
     "iopub.status.idle": "2021-11-19T15:02:22.083643Z",
     "shell.execute_reply": "2021-11-19T15:02:22.082759Z",
     "shell.execute_reply.started": "2021-11-19T15:02:11.382201Z"
    }
   },
   "outputs": [],
   "source": [
    "visualize_mis_images(MISCLASSIFIED_train)"
   ]
  },
  {
   "cell_type": "code",
   "execution_count": 176,
   "metadata": {
    "execution": {
     "iopub.execute_input": "2021-11-19T15:02:24.408323Z",
     "iopub.status.busy": "2021-11-19T15:02:24.408017Z",
     "iopub.status.idle": "2021-11-19T15:02:26.430381Z",
     "shell.execute_reply": "2021-11-19T15:02:26.429527Z",
     "shell.execute_reply.started": "2021-11-19T15:02:24.408286Z"
    }
   },
   "outputs": [],
   "source": [
    "visualize_mis_images(MISCLASSIFIED_val)"
   ]
  },
  {
   "cell_type": "markdown",
   "metadata": {},
   "source": [
    "When visualizing the HSV channels we can detect very fast that all misqualified night images have a very low hue value which is caused by the artificial yellow lights. The value lays about in the region of $< 50$."
   ]
  },
  {
   "cell_type": "markdown",
   "metadata": {},
   "source": [
    "## 3. Increase accuracy by extracing more features"
   ]
  },
  {
   "cell_type": "markdown",
   "metadata": {},
   "source": [
    "###  3.0  Normalization and Standardization\n",
    "And I tried standardilize the brightness of validation set, the result is much worse, it's **52.8%**. <br/>And also normalization of brightness of validation set, the maximal accuracy is **75.00%**, which is also worse than the accuracy of unnormalized brightness (**97.6%**).  "
   ]
  },
  {
   "cell_type": "markdown",
   "metadata": {},
   "source": [
    "### 3.1 Add HSV and RGB value with images\n",
    "\n",
    "We want to analyse the HSV channels and RGB channels, so we create function `avg_hsv_rgb` in order to attach the average channel value with each image, with help of `pd.DataFrame`.  "
   ]
  },
  {
   "cell_type": "code",
   "execution_count": 107,
   "metadata": {
    "execution": {
     "iopub.execute_input": "2021-11-19T12:51:25.973671Z",
     "iopub.status.busy": "2021-11-19T12:51:25.973379Z",
     "iopub.status.idle": "2021-11-19T12:51:25.983336Z",
     "shell.execute_reply": "2021-11-19T12:51:25.982718Z",
     "shell.execute_reply.started": "2021-11-19T12:51:25.973642Z"
    }
   },
   "outputs": [],
   "source": [
    "def avg_hsv_rgb(df_):\n",
    "    ''' Calculate the average HSV and RGB of each image in a dataframe\n",
    "    \n",
    "    Args:\n",
    "        df (pd.DataFrame): The dataframe to add the average HSV and RGB value\n",
    "        \n",
    "    Returns:\n",
    "        3 lists: average Hue, average Saturation, average Value\n",
    "    '''\n",
    "    avg_Hs, avg_Ss, avg_Vs = [], [], []\n",
    "    avg_Rs, avg_Gs, avg_Bs = [], [], []\n",
    "    df = df_.copy()  # use copy() to avoid replacing the original dataframe\n",
    "    for index in tqdm(range(len(df))):\n",
    "        img = cv2.imread(df.iloc[index].path) # reading img \n",
    "        img = cv2.resize(img, (500, 500)) # resizing image\n",
    "        \n",
    "        img = cv2.cvtColor(img, cv2.COLOR_BGR2HSV) # converting to hsv\n",
    "        avg_H, avg_S, avg_V = np.mean(img[:, :, 0]), np.mean(img[:, :, 1]), np.mean(img[:, :, 2]) # calculating average value per pixel of Value channel from HSV image\n",
    "        avg_Hs.append(avg_H)\n",
    "        avg_Ss.append(avg_S)\n",
    "        avg_Vs.append(avg_V)\n",
    "        \n",
    "        img = cv2.cvtColor(img, cv2.COLOR_BGR2RGB) # converting to hsv\n",
    "        avg_R, avg_G, avg_B = np.mean(img[:, :, 0]), np.mean(img[:, :, 1]), np.mean(img[:, :, 2]) # calculating average value per pixel of Value channel from HSV image\n",
    "        avg_Rs.append(avg_R)\n",
    "        avg_Gs.append(avg_G)\n",
    "        avg_Bs.append(avg_B)\n",
    "    \n",
    "    df['avg_H'], df['avg_S'], df['avg_V'] = avg_Hs, avg_Ss, avg_Vs   \n",
    "    df['avg_R'], df['avg_G'], df['avg_B'] = avg_Rs, avg_Gs, avg_Bs  \n",
    "    return df\n",
    "\n",
    "\n",
    "def data_initialize(mode='val'):\n",
    "    ''' Load the data set depending on the mode (train/valid/test), and attach average HSV and RGB\n",
    "        Channel value with each image\n",
    "        \n",
    "    Args:\n",
    "        mode (String): the type of dataset (train/ val/ test), default: val\n",
    "    '''\n",
    "    if mode == 'val':\n",
    "        day_df, night_df = load_images('night', 'val_ref'), load_images('night', 'val')\n",
    "    elif mode == 'train':\n",
    "        day_df, night_df = load_images('night', 'train_ref'),  load_images('night', 'train')\n",
    "    elif mode == 'test':\n",
    "        day_df, night_df = load_images('night', 'test_ref'), load_images('night', 'test')\n",
    "\n",
    "    # Calculate the average HSV and RGB value \n",
    "    day_df = avg_hsv_rgb(day_df)\n",
    "    night_df = avg_hsv_rgb(night_df)\n",
    "    \n",
    "    return day_df, night_df"
   ]
  },
  {
   "cell_type": "markdown",
   "metadata": {},
   "source": [
    "Calculate the average HSV and RGB value of day, night and misclassified images of train set / validation set. "
   ]
  },
  {
   "cell_type": "code",
   "execution_count": 110,
   "metadata": {
    "execution": {
     "iopub.execute_input": "2021-11-19T13:25:30.934476Z",
     "iopub.status.busy": "2021-11-19T13:25:30.934130Z",
     "iopub.status.idle": "2021-11-19T13:27:46.434459Z",
     "shell.execute_reply": "2021-11-19T13:27:46.433514Z",
     "shell.execute_reply.started": "2021-11-19T13:25:30.934443Z"
    }
   },
   "outputs": [],
   "source": [
    "# Load data and calculate average HSV and RGB value\n",
    "train_day_hsv_rgb, train_night_hsv_rgb = data_initialize(mode='train')\n",
    "val_day_hsv_rgb, val_night_hsv_rgb = data_initialize(mode='val')\n",
    "test_day_hsv_rgb, test_night_hsv_rgb = data_initialize(mode='test')"
   ]
  },
  {
   "cell_type": "markdown",
   "metadata": {},
   "source": [
    "According to our analysis above \n",
    ">  all misqualified night images have a very low hue value which is caused by the artificial yellow lights, and the Hue value lays about in the region of  $<50$ .\n",
    "\n",
    "we check the difference of the **Hue value** between Day Images and Night Images of train set "
   ]
  },
  {
   "cell_type": "code",
   "execution_count": 115,
   "metadata": {
    "execution": {
     "iopub.execute_input": "2021-11-19T13:30:50.749383Z",
     "iopub.status.busy": "2021-11-19T13:30:50.749110Z",
     "iopub.status.idle": "2021-11-19T13:30:50.756085Z",
     "shell.execute_reply": "2021-11-19T13:30:50.754981Z",
     "shell.execute_reply.started": "2021-11-19T13:30:50.749356Z"
    }
   },
   "outputs": [],
   "source": [
    "def day_night_scatter(df_day, df_night, x_name, y_name, line_pos, loc_legend='upper left'):\n",
    "    ''' Scatter plot of Day Images and Night Images from the same dataset in a 1*2 subplots\n",
    "    \n",
    "    Args:\n",
    "        df_day/day_night (pd.DataFrame): the day/night images with HSV and RGB value\n",
    "        x_name (String): the name of X_axis, also the field of dataframe, such as `avg_H`, `avg_R`\n",
    "        y_name (String): the name of Y_axis, also the field of dataframe, such as `avg_H`, `avg_R`\n",
    "        label_name (String): the label of images, such as `true_label`, `pred_label`\n",
    "        loc_legend (String): the location of the legend of the plot\n",
    "    '''\n",
    "    fig = plt.figure(figsize=(12,4))\n",
    "    ax1 = plt.subplot(1,2,1)\n",
    "    ax1 = sns.scatterplot(x=x_name, y=y_name, data=df_day, legend='full')\n",
    "    ax1.legend(loc=loc_legend)\n",
    "    ax1.axhline(line_pos, color='red')\n",
    "    ax2 = plt.subplot(1,2,2)\n",
    "    ax2 = sns.scatterplot(x=x_name, y=y_name, data=df_night, legend='full')\n",
    "    ax2.legend(loc=loc_legend)\n",
    "    ax2.axhline(line_pos, color='red')"
   ]
  },
  {
   "cell_type": "code",
   "execution_count": 117,
   "metadata": {
    "execution": {
     "iopub.execute_input": "2021-11-19T13:30:52.350523Z",
     "iopub.status.busy": "2021-11-19T13:30:52.350177Z",
     "iopub.status.idle": "2021-11-19T13:30:52.804020Z",
     "shell.execute_reply": "2021-11-19T13:30:52.803271Z",
     "shell.execute_reply.started": "2021-11-19T13:30:52.350490Z"
    }
   },
   "outputs": [],
   "source": [
    "day_night_scatter(train_day_hsv_rgb, train_night_hsv_rgb, 'avg_V', 'avg_H', line_pos=30., loc_legend='lower left')"
   ]
  },
  {
   "cell_type": "markdown",
   "metadata": {},
   "source": [
    "As mentioned above, in the training set, almost no Day Images have Hue channel values lower than 30, while nighttime images have.\n",
    "\n",
    "The Hue value range of day images in train set is about $[30, 120]$, and the Hue value of night images in train set is about $[15, 140]$."
   ]
  },
  {
   "cell_type": "markdown",
   "metadata": {},
   "source": [
    "### 3.2 Improve by  Hue Channel filter\n",
    "\n",
    "The following approach only looks at the upper part of the image and additionally takes the experience about **hue values** from above into account, so images with artificial bright lights will be flagged as night images, images with large shadow will be flagged as day images"
   ]
  },
  {
   "cell_type": "code",
   "execution_count": 137,
   "metadata": {
    "execution": {
     "iopub.execute_input": "2021-11-19T14:19:32.881198Z",
     "iopub.status.busy": "2021-11-19T14:19:32.880922Z",
     "iopub.status.idle": "2021-11-19T14:19:32.890201Z",
     "shell.execute_reply": "2021-11-19T14:19:32.889168Z",
     "shell.execute_reply.started": "2021-11-19T14:19:32.881171Z"
    }
   },
   "outputs": [],
   "source": [
    "def estimate_label_improve_H(day_df_, night_df_, is_test=False, **kwargs):\n",
    "    ''' For train/valid, find the maximal accuracy and best threshold, \n",
    "        For test, use the specified threshold to calculate the accuracy\n",
    "        For train/valid/test, add pred_label and true_label in DataFrame\n",
    "        \n",
    "    Args:\n",
    "        day_df_/ night_df_ (pd.DataFrame): the dataframe of images\n",
    "        is_test (Boolean): if True, test mode is on\n",
    "    '''\n",
    "    day_df, night_df = day_df_.copy(), night_df_.copy()\n",
    "    \n",
    "    if is_test == False:\n",
    "        # First, find the best threshold to classify\n",
    "        thresholds_70_90 = np.arange(70, 90, 0.1)\n",
    "        accuracy_df, max_accuracy, max_threshold = find_max_accur(day_df.avg_V, night_df.avg_V, thresholds_70_90)\n",
    "        print('The maximal accuracy is: {:.1f}%, where threshold is {:.1f}'.format(max_accuracy*100, max_threshold))\n",
    "    else:\n",
    "        max_threshold = kwargs['threshold']\n",
    "        test_accuracy = get_accuracy(day_df.avg_V, night_df.avg_V, max_threshold)\n",
    "        print('The accuracy of test set is: {:.1f}%, where threshold is {:.1f}'.format(test_accuracy*100, max_threshold))\n",
    "    \n",
    "    # Second, classify images with H Channel Improvement and add labels\n",
    "    day_df.loc[(day_df['avg_V'] <= max_threshold) | \\\n",
    "               ((day_df['avg_V'] > max_threshold) & (day_df['avg_H'] <= 35.)), 'pred_label'] = 'Night' \n",
    "    day_df.fillna({'pred_label': 'Day'}, inplace=True)\n",
    "    night_df.loc[(night_df['avg_V'] <= max_threshold) | \\\n",
    "                 ((night_df['avg_V'] > max_threshold) & (night_df['avg_H'] <= 35.)), 'pred_label'] = 'Night' \n",
    "    night_df.fillna({'pred_label': 'Day'}, inplace=True) \n",
    "    \n",
    "    day_df['true_label'] = 'Day'\n",
    "    night_df['true_label'] = 'Night'\n",
    "    \n",
    "    return day_df, night_df\n"
   ]
  },
  {
   "cell_type": "markdown",
   "metadata": {},
   "source": [
    "### 3.2.1 H channel filter in the train set"
   ]
  },
  {
   "cell_type": "code",
   "execution_count": 127,
   "metadata": {
    "execution": {
     "iopub.execute_input": "2021-11-19T14:13:11.898708Z",
     "iopub.status.busy": "2021-11-19T14:13:11.898236Z",
     "iopub.status.idle": "2021-11-19T14:13:12.562243Z",
     "shell.execute_reply": "2021-11-19T14:13:12.560866Z",
     "shell.execute_reply.started": "2021-11-19T14:13:11.898667Z"
    }
   },
   "outputs": [],
   "source": [
    "# Calculate the maxmial accuracy\n",
    "train_day_df_final, train_night_df_final = estimate_label_improve_H(train_day_hsv_rgb, train_night_hsv_rgb)\n",
    "\n",
    "# Find the misclasified images\n",
    "mis_train_day_df_final = get_misclassified_images(train_day_df_final)\n",
    "mis_train_night_df_final = get_misclassified_images(train_night_df_final)\n",
    "MISCLASSIFIED_train_final = pd.concat([mis_train_day_df_final, mis_train_night_df_final])"
   ]
  },
  {
   "cell_type": "code",
   "execution_count": 128,
   "metadata": {
    "execution": {
     "iopub.execute_input": "2021-11-19T14:13:15.676373Z",
     "iopub.status.busy": "2021-11-19T14:13:15.675703Z",
     "iopub.status.idle": "2021-11-19T14:13:16.185441Z",
     "shell.execute_reply": "2021-11-19T14:13:16.184535Z",
     "shell.execute_reply.started": "2021-11-19T14:13:15.676334Z"
    }
   },
   "outputs": [],
   "source": [
    "# Draw the scatter plot of misclassified images in train set\n",
    "scatter_plot_mis_images(MISCLASSIFIED_train_avg_hsv, 'avg_b', 'avg_H', 'true_label', mode='train', loc_legend='lower left')\n",
    "# Draw the scatter plot of misclassified images of train set \n",
    "scatter_plot_mis_images(MISCLASSIFIED_train_final, 'avg_V', 'avg_H', 'true_label', mode='train', loc_legend='upper left')"
   ]
  },
  {
   "cell_type": "markdown",
   "metadata": {},
   "source": [
    "As we can see, by correcting the images with low **H channel value**, the misclassified night images reduced (especially the images with hue value < 30), and the accuracy increases from $92.5\\%$ to $93.75\\%$.\n",
    "\n",
    "> Note: some Day Images are misclassified at the same time, which is classified correctly before, but the number of new misclassified images is less than the number of new correct classificied images, so the accuracy increases."
   ]
  },
  {
   "cell_type": "markdown",
   "metadata": {},
   "source": [
    "### 3.2.2 H channel filter in the Validation set"
   ]
  },
  {
   "cell_type": "code",
   "execution_count": 129,
   "metadata": {
    "execution": {
     "iopub.execute_input": "2021-11-19T14:13:22.625261Z",
     "iopub.status.busy": "2021-11-19T14:13:22.624435Z",
     "iopub.status.idle": "2021-11-19T14:13:23.081622Z",
     "shell.execute_reply": "2021-11-19T14:13:23.080997Z",
     "shell.execute_reply.started": "2021-11-19T14:13:22.625226Z"
    }
   },
   "outputs": [],
   "source": [
    "# Calculate the maxmial accuracy\n",
    "val_day_df_final, val_night_df_final =  estimate_label_improve_H(val_day_hsv_rgb, val_night_hsv_rgb)\n",
    "\n",
    "# Find the misclasified images\n",
    "mis_val_day_df_final = get_misclassified_images(val_day_df_final)\n",
    "mis_val_night_df_final = get_misclassified_images(val_night_df_final)\n",
    "MISCLASSIFIED_val_final = pd.concat([mis_val_day_df_final, mis_val_night_df_final])"
   ]
  },
  {
   "cell_type": "code",
   "execution_count": 130,
   "metadata": {
    "execution": {
     "iopub.execute_input": "2021-11-19T14:13:25.824949Z",
     "iopub.status.busy": "2021-11-19T14:13:25.824688Z",
     "iopub.status.idle": "2021-11-19T14:13:26.316342Z",
     "shell.execute_reply": "2021-11-19T14:13:26.315546Z",
     "shell.execute_reply.started": "2021-11-19T14:13:25.824923Z"
    }
   },
   "outputs": [],
   "source": [
    "# Draw the scatter plot of misclassified images in vcalidation set\n",
    "scatter_plot_mis_images(MISCLASSIFIED_val_avg_hsv, 'avg_b', 'avg_H', 'true_label', mode='val', loc_legend='lower left')\n",
    "# Draw the scatter plot of misclassified images of validation set\n",
    "scatter_plot_mis_images(MISCLASSIFIED_val_final, 'avg_V', 'avg_H', 'true_label', mode='val', loc_legend='upper left')"
   ]
  },
  {
   "cell_type": "markdown",
   "metadata": {},
   "source": [
    "As shown above, in the validation set, the misclassified night images (yellow points in the upper figure) are corrected (removed in the below figure).  \n",
    "\n",
    "And the accuracy of validation set increases, from $97.64\\%$ to $98.58\\%$."
   ]
  },
  {
   "cell_type": "code",
   "execution_count": 37,
   "metadata": {
    "execution": {
     "iopub.execute_input": "2021-11-19T11:34:06.780307Z",
     "iopub.status.busy": "2021-11-19T11:34:06.780002Z",
     "iopub.status.idle": "2021-11-19T11:34:08.159572Z",
     "shell.execute_reply": "2021-11-19T11:34:08.158659Z",
     "shell.execute_reply.started": "2021-11-19T11:34:06.780269Z"
    }
   },
   "outputs": [],
   "source": [
    "visualize_mis_images(MISCLASSIFIED_val_final)"
   ]
  },
  {
   "cell_type": "markdown",
   "metadata": {},
   "source": [
    "We can see that we main problem of the 3 misclassified day images is that their brightness is very low, due to the large shadow. So we need to analysis the shadow's influence in RGB channels and corresponding improvement methods."
   ]
  },
  {
   "cell_type": "markdown",
   "metadata": {},
   "source": [
    "### 3.2.3  H channel filter in the Test set"
   ]
  },
  {
   "cell_type": "code",
   "execution_count": 132,
   "metadata": {
    "execution": {
     "iopub.execute_input": "2021-11-19T14:15:17.229095Z",
     "iopub.status.busy": "2021-11-19T14:15:17.228818Z",
     "iopub.status.idle": "2021-11-19T14:16:23.815883Z",
     "shell.execute_reply": "2021-11-19T14:16:23.815061Z",
     "shell.execute_reply.started": "2021-11-19T14:15:17.229068Z"
    }
   },
   "outputs": [],
   "source": [
    "test_day_hsv_rgb, test_night_hsv_rgb = data_initialize(mode='test')"
   ]
  },
  {
   "cell_type": "code",
   "execution_count": 138,
   "metadata": {
    "execution": {
     "iopub.execute_input": "2021-11-19T14:19:41.995084Z",
     "iopub.status.busy": "2021-11-19T14:19:41.994471Z",
     "iopub.status.idle": "2021-11-19T14:19:42.014446Z",
     "shell.execute_reply": "2021-11-19T14:19:42.013619Z",
     "shell.execute_reply.started": "2021-11-19T14:19:41.995041Z"
    }
   },
   "outputs": [],
   "source": [
    "test_threshold = 81.0  # use the best threshold of the training set\n",
    "\n",
    "test_day_df_final, test_night_df_final = estimate_label_improve_H(test_day_hsv_rgb, test_night_hsv_rgb, is_test=True, threshold=test_threshold)  \n",
    "mis_test_day_df_final = get_misclassified_images(test_day_df_final)\n",
    "mis_test_night_df_final = get_misclassified_images(test_night_df_final)\n",
    "MISCLASSIFIED_test_final = pd.concat([mis_test_day_df_final, mis_test_night_df_final])"
   ]
  },
  {
   "cell_type": "code",
   "execution_count": 177,
   "metadata": {
    "execution": {
     "iopub.execute_input": "2021-11-19T15:02:40.657196Z",
     "iopub.status.busy": "2021-11-19T15:02:40.656924Z",
     "iopub.status.idle": "2021-11-19T15:02:51.179444Z",
     "shell.execute_reply": "2021-11-19T15:02:51.178697Z",
     "shell.execute_reply.started": "2021-11-19T15:02:40.657168Z"
    }
   },
   "outputs": [],
   "source": [
    "# Draw the scatter plot of misclassified images of test set\n",
    "scatter_plot_mis_images(MISCLASSIFIED_test_final, 'avg_G', 'avg_H', 'true_label', mode='test', loc_legend='upper left')\n",
    "\n",
    "visualize_mis_images(mis_test_night_df_final)"
   ]
  },
  {
   "cell_type": "markdown",
   "metadata": {},
   "source": [
    "We get the original accuracy $89.6\\%$ by using the best threshold of train set directly.\n",
    "> Note: at first I made a mistake, I use the same way to find the maximal accuracy of test set as what I did in train set and validation set.<br/>\n",
    "But we cannot get the accuracy of test set in this way, because **we can never train the test set !!**\n",
    "\n",
    "And after add **H channel filter**, the accuracy of test set increases to $93.5\\%$ (increased by $3.9\\%$)."
   ]
  },
  {
   "cell_type": "markdown",
   "metadata": {},
   "source": [
    "## 3.3 Further improvement by RGB Channel"
   ]
  },
  {
   "cell_type": "markdown",
   "metadata": {},
   "source": [
    "It seems that we still can improve the accuracy by extracting more features.\n",
    "\n",
    "We can notice that in validation set all the misclassified images  are 'Day Images', and in train set over 70% misclassified images are 'Day Images'.\n",
    "\n",
    "And there's much large shadow in Day images, which leads to the low brightness. \n",
    "\n",
    "Now let's study the **influence of large shadow in RGB Channels of \"Day Images\"** and try to extract more useful features."
   ]
  },
  {
   "cell_type": "code",
   "execution_count": 142,
   "metadata": {
    "execution": {
     "iopub.execute_input": "2021-11-19T14:43:18.159898Z",
     "iopub.status.busy": "2021-11-19T14:43:18.159436Z",
     "iopub.status.idle": "2021-11-19T14:43:18.169847Z",
     "shell.execute_reply": "2021-11-19T14:43:18.168939Z",
     "shell.execute_reply.started": "2021-11-19T14:43:18.159867Z"
    }
   },
   "outputs": [],
   "source": [
    "def scatter_rgb(df, x_name, label_name, mode, loc_legend, title, hlines=None, is_mis=False):\n",
    "    ''' Scatter plot of images in (1 * 3) subplots\n",
    "        X axis is a Channel Value selected from HSV and RGB,\n",
    "        Y axis is R Channel, G Channel, B Channel respectively in each subplot\n",
    "        \n",
    "    Args:\n",
    "        df (pd.DataFrame): the misclassified images with HSV and RGB value\n",
    "        x_name (String): the name of X_axis, also the field of dataframe, such as `avg_H`, `avg_R`\n",
    "        label_name (String): the label of images, such as `true_label`, `pred_label`\n",
    "        mode (String): 3 choices -- train / validation / test mode\n",
    "        loc_legend (String): the location of the legend of the plot\n",
    "        title (String): the title of the figure (not subplot)\n",
    "        hlines (list of float): the position of horizontal line in each subplot. Default None\n",
    "        is_mis (Boolean): the condition of calculating the accuracy of classification\n",
    "                if True, calculate the accuracy and print it in the terminal \n",
    "    '''\n",
    "    f = plt.figure(figsize=(20,5))\n",
    "    rgb = ['avg_R', 'avg_G', 'avg_B']\n",
    "    f.suptitle('{:s} (Mode: {:s})'.format(title, mode), fontsize=20)\n",
    "    for i in range(3):\n",
    "        ax = f.add_subplot(1, 3 ,i+1)\n",
    "        ax = sns.scatterplot(x=x_name, y=rgb[i], hue=label_name, data=df, legend='full')\n",
    "        ax.legend(loc=loc_legend)\n",
    "        if hlines != None: ax.axhline(hlines[i], color='red')\n",
    "        ax.set_title('[{:s} -- {:s}]'.format(x_name, rgb[i]), fontsize=12)\n",
    "    \n",
    "    plt.show()\n",
    "    \n",
    "    if is_mis:\n",
    "        length = len_train if mode=='train' else len_val if mode=='val' else len_test\n",
    "        accuracy = (1-len(df)/ length)*100\n",
    "        print('The accuracy is: {:.2f} %'.format(accuracy))"
   ]
  },
  {
   "cell_type": "code",
   "execution_count": 143,
   "metadata": {
    "execution": {
     "iopub.execute_input": "2021-11-19T14:43:24.537429Z",
     "iopub.status.busy": "2021-11-19T14:43:24.536862Z",
     "iopub.status.idle": "2021-11-19T14:43:26.649375Z",
     "shell.execute_reply": "2021-11-19T14:43:26.648369Z",
     "shell.execute_reply.started": "2021-11-19T14:43:24.537386Z"
    }
   },
   "outputs": [],
   "source": [
    "scatter_rgb(MISCLASSIFIED_train_final, 'avg_V',  'true_label', mode='train', loc_legend='upper left', title='MisClassified Images', is_mis=True)\n",
    "hlines = [95, 130, 125]\n",
    "scatter_rgb(train_day_df_final, 'avg_V',  'pred_label', mode='train', loc_legend='upper left', title='Day Images', hlines=hlines)\n",
    "scatter_rgb(train_night_df_final, 'avg_V',  'pred_label', mode='train', loc_legend='upper left', title='Night Images', hlines=hlines)"
   ]
  },
  {
   "cell_type": "markdown",
   "metadata": {},
   "source": [
    "We can notice that the G channel value of Day Images is much lower than that of Night Images.<br/> ( Day --- lower than 60, Night -- Higher than 60 ) "
   ]
  },
  {
   "cell_type": "code",
   "execution_count": 145,
   "metadata": {
    "execution": {
     "iopub.execute_input": "2021-11-19T14:43:33.478974Z",
     "iopub.status.busy": "2021-11-19T14:43:33.478237Z",
     "iopub.status.idle": "2021-11-19T14:43:33.485844Z",
     "shell.execute_reply": "2021-11-19T14:43:33.484940Z",
     "shell.execute_reply.started": "2021-11-19T14:43:33.478932Z"
    }
   },
   "outputs": [],
   "source": [
    "def improve_RGB(val_day_df_, val_night_df_):\n",
    "    val_day_df, val_night_df = val_day_df_.copy(), val_night_df_.copy()\n",
    "    \n",
    "    val_day_df.loc[(val_day_df['pred_label'] == 'Night') & (val_day_df['avg_R'] >= 95.), 'pred_label'] = 'Day' \n",
    "    val_night_df.loc[(val_night_df['pred_label'] == 'Night') & (val_night_df['avg_R'] >= 95.), 'pred_label'] = 'Day'\n",
    "    \n",
    "    val_day_df.loc[(val_day_df['pred_label'] == 'Day') & (val_day_df['avg_G'] >= 130.), 'pred_label'] = 'Night' \n",
    "    val_night_df.loc[(val_night_df['pred_label'] == 'Day') & (val_night_df['avg_G'] >= 130.), 'pred_label'] = 'Night'\n",
    "    \n",
    "    val_day_df.loc[(val_day_df['pred_label'] == 'Day') & (val_day_df['avg_G'] >= 130.), 'pred_label'] = 'Night' \n",
    "    val_night_df.loc[(val_night_df['pred_label'] == 'Day') & (val_night_df['avg_G'] >= 130.), 'pred_label'] = 'Night'\n",
    "    \n",
    "    return val_day_df, val_night_df \n",
    "    "
   ]
  },
  {
   "cell_type": "markdown",
   "metadata": {},
   "source": [
    "### 3.3.1 RGB Channel Filter in the Train set"
   ]
  },
  {
   "cell_type": "code",
   "execution_count": 147,
   "metadata": {
    "execution": {
     "iopub.execute_input": "2021-11-19T14:43:44.410556Z",
     "iopub.status.busy": "2021-11-19T14:43:44.410119Z",
     "iopub.status.idle": "2021-11-19T14:43:44.426070Z",
     "shell.execute_reply": "2021-11-19T14:43:44.425101Z",
     "shell.execute_reply.started": "2021-11-19T14:43:44.410523Z"
    }
   },
   "outputs": [],
   "source": [
    "# Get the improved train set by filtering the G channel\n",
    "train_day_df_final_G,  train_night_df_final_G = improve_RGB(train_day_df_final,  train_night_df_final)\n",
    "\n",
    "# Find the misclassified images of train set\n",
    "mis_train_day_df_final_G = get_misclassified_images(train_day_df_final_G)\n",
    "mis_train_night_df_final_G = get_misclassified_images(train_night_df_final_G)\n",
    "MISCLASSIFIED_train_final_G = pd.concat([mis_train_day_df_final_G, mis_train_night_df_final_G])"
   ]
  },
  {
   "cell_type": "code",
   "execution_count": 148,
   "metadata": {
    "execution": {
     "iopub.execute_input": "2021-11-19T14:43:46.714399Z",
     "iopub.status.busy": "2021-11-19T14:43:46.714134Z",
     "iopub.status.idle": "2021-11-19T14:43:47.935135Z",
     "shell.execute_reply": "2021-11-19T14:43:47.934245Z",
     "shell.execute_reply.started": "2021-11-19T14:43:46.714373Z"
    }
   },
   "outputs": [],
   "source": [
    "# Draw the scatter plot of misclassified images of train set\n",
    "scatter_rgb(MISCLASSIFIED_train_final, 'avg_V',  'true_label', mode='train', loc_legend='upper left', title='MisClassified Images', is_mis=True)\n",
    "scatter_rgb(MISCLASSIFIED_train_final_G, 'avg_V',  'true_label', mode='train', loc_legend='upper left', title='MisClassified Images After RGB', is_mis=True)"
   ]
  },
  {
   "cell_type": "markdown",
   "metadata": {},
   "source": [
    "The accuracy increases to $95.12\\%$ from $94.00\\%$ by RGB Channel Filter."
   ]
  },
  {
   "cell_type": "markdown",
   "metadata": {},
   "source": [
    "### 3.3.2 RGB Channel Filter in the Validation set"
   ]
  },
  {
   "cell_type": "code",
   "execution_count": 149,
   "metadata": {
    "execution": {
     "iopub.execute_input": "2021-11-19T14:45:43.229873Z",
     "iopub.status.busy": "2021-11-19T14:45:43.229566Z",
     "iopub.status.idle": "2021-11-19T14:45:43.243965Z",
     "shell.execute_reply": "2021-11-19T14:45:43.243043Z",
     "shell.execute_reply.started": "2021-11-19T14:45:43.229846Z"
    }
   },
   "outputs": [],
   "source": [
    "# Get the improved validation set by filtering the G channel\n",
    "val_day_df_final_G,  val_night_df_final_G = improve_RGB(val_day_df_final,  val_night_df_final)\n",
    "\n",
    "# Find the misclassified images of validation set\n",
    "mis_val_day_df_final_G = get_misclassified_images(val_day_df_final_G)\n",
    "mis_val_night_df_final_G = get_misclassified_images(val_night_df_final_G)\n",
    "MISCLASSIFIED_val_final_G = pd.concat([mis_val_day_df_final_G, mis_val_night_df_final_G])"
   ]
  },
  {
   "cell_type": "code",
   "execution_count": 150,
   "metadata": {
    "execution": {
     "iopub.execute_input": "2021-11-19T14:45:45.352284Z",
     "iopub.status.busy": "2021-11-19T14:45:45.352036Z",
     "iopub.status.idle": "2021-11-19T14:45:46.639696Z",
     "shell.execute_reply": "2021-11-19T14:45:46.638708Z",
     "shell.execute_reply.started": "2021-11-19T14:45:45.352258Z"
    }
   },
   "outputs": [],
   "source": [
    "# Draw the scatter plot of misclassified images of validation set\n",
    "scatter_rgb(MISCLASSIFIED_val_final, 'avg_V',  'true_label', mode='val', loc_legend='upper left', title='MisClassified Images', is_mis=True)\n",
    "scatter_rgb(MISCLASSIFIED_val_final_G, 'avg_V',  'true_label', mode='val', loc_legend='upper left', title='MisClassified Images After RGB', is_mis=True)"
   ]
  },
  {
   "cell_type": "markdown",
   "metadata": {},
   "source": [
    "The accuracy of validation set doesn't change."
   ]
  },
  {
   "cell_type": "markdown",
   "metadata": {},
   "source": [
    "### 3.3.3 RGB Channel Filter in the Test set"
   ]
  },
  {
   "cell_type": "code",
   "execution_count": 151,
   "metadata": {
    "execution": {
     "iopub.execute_input": "2021-11-19T14:46:32.457330Z",
     "iopub.status.busy": "2021-11-19T14:46:32.456658Z",
     "iopub.status.idle": "2021-11-19T14:46:34.181108Z",
     "shell.execute_reply": "2021-11-19T14:46:34.180137Z",
     "shell.execute_reply.started": "2021-11-19T14:46:32.457296Z"
    }
   },
   "outputs": [],
   "source": [
    "scatter_rgb(MISCLASSIFIED_test_final, 'avg_V',  'true_label', mode='test', loc_legend='upper left', title='MisClassified Images', is_mis=True)\n",
    "hlines = [95, 130, 125]\n",
    "scatter_rgb(test_day_df_final, 'avg_V',  'pred_label', mode='test', loc_legend='upper left', title='Day Images', hlines=hlines)\n",
    "scatter_rgb(test_night_df_final, 'avg_V',  'pred_label', mode='test', loc_legend='upper left', title='Night Images', hlines=hlines)"
   ]
  },
  {
   "cell_type": "code",
   "execution_count": 152,
   "metadata": {
    "execution": {
     "iopub.execute_input": "2021-11-19T14:46:38.544285Z",
     "iopub.status.busy": "2021-11-19T14:46:38.544001Z",
     "iopub.status.idle": "2021-11-19T14:46:38.559325Z",
     "shell.execute_reply": "2021-11-19T14:46:38.558232Z",
     "shell.execute_reply.started": "2021-11-19T14:46:38.544255Z"
    }
   },
   "outputs": [],
   "source": [
    "test_day_df_final_G, test_night_df_final_G = improve_RGB(test_day_df_final, test_night_df_final)\n",
    "# Find the misclassified images\n",
    "mis_test_day_df_final_G = get_misclassified_images(test_day_df_final_G)\n",
    "mis_test_night_df_final_G = get_misclassified_images(test_night_df_final_G)\n",
    "MISCLASSIFIED_test_final_G = pd.concat([mis_test_day_df_final_G, mis_test_night_df_final_G])"
   ]
  },
  {
   "cell_type": "code",
   "execution_count": 153,
   "metadata": {
    "execution": {
     "iopub.execute_input": "2021-11-19T14:46:41.113811Z",
     "iopub.status.busy": "2021-11-19T14:46:41.113523Z",
     "iopub.status.idle": "2021-11-19T14:46:42.312721Z",
     "shell.execute_reply": "2021-11-19T14:46:42.311327Z",
     "shell.execute_reply.started": "2021-11-19T14:46:41.113782Z"
    }
   },
   "outputs": [],
   "source": [
    "# Draw the scatter plot of misclassified images of test set\n",
    "scatter_rgb(MISCLASSIFIED_test_final, 'avg_V',  'true_label', mode='test', loc_legend='upper left', title='MisClassified Images', is_mis=True)\n",
    "scatter_rgb(MISCLASSIFIED_test_final_G, 'avg_V',  'true_label', mode='test', loc_legend='upper left', title='MisClassified Images After RGB', is_mis=True)"
   ]
  },
  {
   "cell_type": "markdown",
   "metadata": {
    "execution": {
     "iopub.execute_input": "2021-11-19T14:47:07.956869Z",
     "iopub.status.busy": "2021-11-19T14:47:07.956569Z",
     "iopub.status.idle": "2021-11-19T14:47:07.963144Z",
     "shell.execute_reply": "2021-11-19T14:47:07.961902Z",
     "shell.execute_reply.started": "2021-11-19T14:47:07.956842Z"
    }
   },
   "source": [
    "The accuracy of test set increases to $93.90\\%$ from $93.50\\%$ by RGB Channel Filter."
   ]
  },
  {
   "cell_type": "code",
   "execution_count": 178,
   "metadata": {
    "execution": {
     "iopub.execute_input": "2021-11-19T15:03:07.008142Z",
     "iopub.status.busy": "2021-11-19T15:03:07.007729Z",
     "iopub.status.idle": "2021-11-19T15:03:16.949550Z",
     "shell.execute_reply": "2021-11-19T15:03:16.948718Z",
     "shell.execute_reply.started": "2021-11-19T15:03:07.008114Z"
    }
   },
   "outputs": [],
   "source": [
    "visualize_mis_images(MISCLASSIFIED_test_final_G)"
   ]
  }
 ],
 "metadata": {
  "kernelspec": {
   "display_name": "Python 3",
   "language": "python",
   "name": "python3"
  },
  "language_info": {
   "codemirror_mode": {
    "name": "ipython",
    "version": 3
   },
   "file_extension": ".py",
   "mimetype": "text/x-python",
   "name": "python",
   "nbconvert_exporter": "python",
   "pygments_lexer": "ipython3",
   "version": "3.8.10"
  }
 },
 "nbformat": 4,
 "nbformat_minor": 4
}
